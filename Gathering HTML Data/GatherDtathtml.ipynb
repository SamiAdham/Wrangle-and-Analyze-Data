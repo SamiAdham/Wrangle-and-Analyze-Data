{
 "cells": [
  {
   "cell_type": "markdown",
   "metadata": {},
   "source": [
    "# Gathering Data from HTML folder locally "
   ]
  },
  {
   "cell_type": "code",
   "execution_count": 140,
   "metadata": {},
   "outputs": [],
   "source": [
    "from bs4 import BeautifulSoup\n",
    "import os\n",
    "import pandas as pd"
   ]
  },
  {
   "cell_type": "code",
   "execution_count": 142,
   "metadata": {},
   "outputs": [],
   "source": [
    "# create emty list to collect 'title','audience' and 'User_rating' as dic\n",
    "df_list = []\n",
    "#assign html folder to variable named folder\n",
    "folder='rt_html'\n",
    "#create for loop for each page using os.listdir len time\n",
    "for i in os.listdir(folder):\n",
    "    with open(os.path.join(folder,i)) as file:\n",
    "        #make the soup\n",
    "        soup=BeautifulSoup(file)\n",
    "        #extract title\n",
    "        title=soup.find('title').contents[0][:-len(' - Rotten Tomatoes')]\n",
    "        #extract aud\n",
    "        aud=soup.find('span',class_=\"superPageFontColor\").find('span').contents[0]\n",
    "        #extract user_rate\n",
    "        user_rate=soup.find('div',class_=\"audience-info hidden-xs superPageFontColor\").find_all('div')[1].contents[2].strip().replace(',','')\n",
    "        #append each title','audience' and 'User_rating' to our df_list\n",
    "        df_list.append({'title':title, 'audience':int(aud),'User_rating':int(user_rate)})"
   ]
  },
  {
   "cell_type": "code",
   "execution_count": 143,
   "metadata": {},
   "outputs": [
    {
     "data": {
      "text/html": [
       "<div>\n",
       "<style scoped>\n",
       "    .dataframe tbody tr th:only-of-type {\n",
       "        vertical-align: middle;\n",
       "    }\n",
       "\n",
       "    .dataframe tbody tr th {\n",
       "        vertical-align: top;\n",
       "    }\n",
       "\n",
       "    .dataframe thead th {\n",
       "        text-align: right;\n",
       "    }\n",
       "</style>\n",
       "<table border=\"1\" class=\"dataframe\">\n",
       "  <thead>\n",
       "    <tr style=\"text-align: right;\">\n",
       "      <th></th>\n",
       "      <th>title</th>\n",
       "      <th>audience</th>\n",
       "      <th>User_rating</th>\n",
       "    </tr>\n",
       "  </thead>\n",
       "  <tbody>\n",
       "    <tr>\n",
       "      <td>0</td>\n",
       "      <td>Zootopia (2016)</td>\n",
       "      <td>98</td>\n",
       "      <td>98633</td>\n",
       "    </tr>\n",
       "    <tr>\n",
       "      <td>1</td>\n",
       "      <td>The Treasure of the Sierra Madre (1948)</td>\n",
       "      <td>100</td>\n",
       "      <td>25627</td>\n",
       "    </tr>\n",
       "    <tr>\n",
       "      <td>2</td>\n",
       "      <td>All Quiet on the Western Front (1930)</td>\n",
       "      <td>100</td>\n",
       "      <td>17768</td>\n",
       "    </tr>\n",
       "    <tr>\n",
       "      <td>3</td>\n",
       "      <td>Rear Window (1954)</td>\n",
       "      <td>100</td>\n",
       "      <td>149458</td>\n",
       "    </tr>\n",
       "    <tr>\n",
       "      <td>4</td>\n",
       "      <td>Selma (2015)</td>\n",
       "      <td>99</td>\n",
       "      <td>60533</td>\n",
       "    </tr>\n",
       "    <tr>\n",
       "      <td>...</td>\n",
       "      <td>...</td>\n",
       "      <td>...</td>\n",
       "      <td>...</td>\n",
       "    </tr>\n",
       "    <tr>\n",
       "      <td>95</td>\n",
       "      <td>The Night of the Hunter (1955)</td>\n",
       "      <td>98</td>\n",
       "      <td>24322</td>\n",
       "    </tr>\n",
       "    <tr>\n",
       "      <td>96</td>\n",
       "      <td>A Streetcar Named Desire (1951)</td>\n",
       "      <td>98</td>\n",
       "      <td>54761</td>\n",
       "    </tr>\n",
       "    <tr>\n",
       "      <td>97</td>\n",
       "      <td>Arrival (2016)</td>\n",
       "      <td>94</td>\n",
       "      <td>78740</td>\n",
       "    </tr>\n",
       "    <tr>\n",
       "      <td>98</td>\n",
       "      <td>Skyfall (2012)</td>\n",
       "      <td>93</td>\n",
       "      <td>372497</td>\n",
       "    </tr>\n",
       "    <tr>\n",
       "      <td>99</td>\n",
       "      <td>Star Trek (2009)</td>\n",
       "      <td>95</td>\n",
       "      <td>746458</td>\n",
       "    </tr>\n",
       "  </tbody>\n",
       "</table>\n",
       "<p>100 rows × 3 columns</p>\n",
       "</div>"
      ],
      "text/plain": [
       "                                      title  audience  User_rating\n",
       "0                           Zootopia (2016)        98        98633\n",
       "1   The Treasure of the Sierra Madre (1948)       100        25627\n",
       "2     All Quiet on the Western Front (1930)       100        17768\n",
       "3                        Rear Window (1954)       100       149458\n",
       "4                              Selma (2015)        99        60533\n",
       "..                                      ...       ...          ...\n",
       "95           The Night of the Hunter (1955)        98        24322\n",
       "96          A Streetcar Named Desire (1951)        98        54761\n",
       "97                           Arrival (2016)        94        78740\n",
       "98                           Skyfall (2012)        93       372497\n",
       "99                         Star Trek (2009)        95       746458\n",
       "\n",
       "[100 rows x 3 columns]"
      ]
     },
     "execution_count": 143,
     "metadata": {},
     "output_type": "execute_result"
    }
   ],
   "source": [
    "#create dataframe and assign name to each column as bellow\n",
    "df=pd.DataFrame(df_list,columns=['title','audience','User_rating'])\n",
    "df"
   ]
  },
  {
   "cell_type": "code",
   "execution_count": null,
   "metadata": {},
   "outputs": [],
   "source": []
  },
  {
   "cell_type": "code",
   "execution_count": null,
   "metadata": {},
   "outputs": [],
   "source": []
  },
  {
   "cell_type": "code",
   "execution_count": null,
   "metadata": {},
   "outputs": [],
   "source": []
  }
 ],
 "metadata": {
  "kernelspec": {
   "display_name": "Python 3",
   "language": "python",
   "name": "python3"
  },
  "language_info": {
   "codemirror_mode": {
    "name": "ipython",
    "version": 3
   },
   "file_extension": ".py",
   "mimetype": "text/x-python",
   "name": "python",
   "nbconvert_exporter": "python",
   "pygments_lexer": "ipython3",
   "version": "3.7.3"
  }
 },
 "nbformat": 4,
 "nbformat_minor": 2
}
